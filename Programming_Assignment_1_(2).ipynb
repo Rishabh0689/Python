{
  "cells": [
    {
      "cell_type": "markdown",
      "metadata": {
        "id": "view-in-github",
        "colab_type": "text"
      },
      "source": [
        "<a href=\"https://colab.research.google.com/github/Rishabh0689/Python/blob/main/Programming_Assignment_1_(2).ipynb\" target=\"_parent\"><img src=\"https://colab.research.google.com/assets/colab-badge.svg\" alt=\"Open In Colab\"/></a>"
      ]
    },
    {
      "cell_type": "markdown",
      "id": "637b47a5",
      "metadata": {
        "id": "637b47a5"
      },
      "source": [
        "## Programming Assignment_1\n",
        "-------------"
      ]
    },
    {
      "cell_type": "markdown",
      "id": "0c647dbe",
      "metadata": {
        "id": "0c647dbe"
      },
      "source": [
        "### 1. Write a Python program to print \"Hello Python\"?"
      ]
    },
    {
      "cell_type": "code",
      "source": [
        "print(\"Hello Python\")"
      ],
      "metadata": {
        "id": "Pt6FDotKSn8v",
        "outputId": "c1494f76-0bb7-467e-f6de-79c175f0e169",
        "colab": {
          "base_uri": "https://localhost:8080/"
        }
      },
      "id": "Pt6FDotKSn8v",
      "execution_count": 33,
      "outputs": [
        {
          "output_type": "stream",
          "name": "stdout",
          "text": [
            "Hello Python\n"
          ]
        }
      ]
    },
    {
      "cell_type": "markdown",
      "id": "fc18a6cd",
      "metadata": {
        "id": "fc18a6cd"
      },
      "source": [
        "### 2. Write a Python program to do arithmetical operations addition and division.?\n"
      ]
    },
    {
      "cell_type": "code",
      "source": [
        "num1 = input('enter the first number')\n",
        "num2 = input('enter the second number')\n",
        "sum = int(num1) + int(num2)\n",
        "print (sum)\n",
        "division = int(num1) / int(num2)\n",
        "print (division)"
      ],
      "metadata": {
        "id": "cu7T_6hGSsm1",
        "outputId": "0dea4f0a-6cb0-41ea-99fe-32b32b5fc57f",
        "colab": {
          "base_uri": "https://localhost:8080/"
        }
      },
      "id": "cu7T_6hGSsm1",
      "execution_count": 34,
      "outputs": [
        {
          "output_type": "stream",
          "name": "stdout",
          "text": [
            "enter the first number10\n",
            "enter the second number5\n",
            "15\n",
            "2.0\n"
          ]
        }
      ]
    },
    {
      "cell_type": "markdown",
      "id": "af6e2429",
      "metadata": {
        "id": "af6e2429"
      },
      "source": [
        "### 3. Write a Python program to find the area of a triangle?\n"
      ]
    },
    {
      "cell_type": "code",
      "source": [
        "a = int(input(\"enter the first number\"))\n",
        "b = int(input(\"enter the second number\"))\n",
        "c = int(input(\"enter the third number\"))\n",
        "s = (a + b + c)/2\n",
        "area = (s*(s-a)*(s-b)*(s-c)) ** 0.5\n",
        "print(area)"
      ],
      "metadata": {
        "id": "CXC9BqylSwZE",
        "outputId": "1314208c-194b-46d3-87db-9574c5259a20",
        "colab": {
          "base_uri": "https://localhost:8080/"
        }
      },
      "id": "CXC9BqylSwZE",
      "execution_count": 35,
      "outputs": [
        {
          "output_type": "stream",
          "name": "stdout",
          "text": [
            "enter the first number5\n",
            "enter the second number6\n",
            "enter the third number7\n",
            "14.696938456699069\n"
          ]
        }
      ]
    },
    {
      "cell_type": "markdown",
      "id": "b8140061",
      "metadata": {
        "id": "b8140061"
      },
      "source": [
        "### 4. Write a Python program to swap two variables?\n"
      ]
    },
    {
      "cell_type": "code",
      "source": [
        "a = int(input(\"enter first number\"))\n",
        "b = int(input(\"enter second number\"))\n",
        "temp = a\n",
        "a = b\n",
        "b = temp\n",
        "print (a)\n",
        "print (b)"
      ],
      "metadata": {
        "id": "OeI7xQpDS5UZ",
        "outputId": "6bec1cea-f117-4975-940d-2a121e8db80d",
        "colab": {
          "base_uri": "https://localhost:8080/"
        }
      },
      "id": "OeI7xQpDS5UZ",
      "execution_count": 36,
      "outputs": [
        {
          "output_type": "stream",
          "name": "stdout",
          "text": [
            "enter first number5\n",
            "enter second number10\n",
            "10\n",
            "5\n"
          ]
        }
      ]
    },
    {
      "cell_type": "markdown",
      "id": "3f8054c1",
      "metadata": {
        "id": "3f8054c1"
      },
      "source": [
        "### 5. Write a Python program to generate a random number?\n"
      ]
    },
    {
      "cell_type": "code",
      "source": [
        "import random\n",
        "n = random.random()\n",
        "print (n)"
      ],
      "metadata": {
        "id": "PZRvnf63TBdp",
        "outputId": "8187ea93-666b-4ab8-a759-7d5245370f70",
        "colab": {
          "base_uri": "https://localhost:8080/"
        }
      },
      "id": "PZRvnf63TBdp",
      "execution_count": 47,
      "outputs": [
        {
          "output_type": "stream",
          "name": "stdout",
          "text": [
            "0.4394709973316395\n"
          ]
        }
      ]
    }
  ],
  "metadata": {
    "kernelspec": {
      "display_name": "Python 3 (ipykernel)",
      "language": "python",
      "name": "python3"
    },
    "language_info": {
      "codemirror_mode": {
        "name": "ipython",
        "version": 3
      },
      "file_extension": ".py",
      "mimetype": "text/x-python",
      "name": "python",
      "nbconvert_exporter": "python",
      "pygments_lexer": "ipython3",
      "version": "3.9.12"
    },
    "colab": {
      "provenance": [],
      "include_colab_link": true
    }
  },
  "nbformat": 4,
  "nbformat_minor": 5
}
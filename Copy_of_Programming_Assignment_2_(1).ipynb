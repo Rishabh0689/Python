{
  "cells": [
    {
      "cell_type": "markdown",
      "metadata": {
        "id": "view-in-github",
        "colab_type": "text"
      },
      "source": [
        "<a href=\"https://colab.research.google.com/github/Rishabh0689/Python/blob/main/Copy_of_Programming_Assignment_2_(1).ipynb\" target=\"_parent\"><img src=\"https://colab.research.google.com/assets/colab-badge.svg\" alt=\"Open In Colab\"/></a>"
      ]
    },
    {
      "cell_type": "markdown",
      "id": "08c66ea5",
      "metadata": {
        "id": "08c66ea5"
      },
      "source": [
        "## Programming Assignment_2\n",
        "-------------"
      ]
    },
    {
      "cell_type": "markdown",
      "id": "4e50cf42",
      "metadata": {
        "id": "4e50cf42"
      },
      "source": [
        "1. Write a Python program to convert kilometers to miles?\n"
      ]
    },
    {
      "cell_type": "code",
      "source": [
        "kilo = float(input(\"enter kiolmeter\"))\n",
        "Conversion_factor = 0.62137\n",
        "mile = kilo * Conversion_factor\n",
        "print (\" \", mile)\n"
      ],
      "metadata": {
        "colab": {
          "base_uri": "https://localhost:8080/"
        },
        "id": "SXDJwToT-Clg",
        "outputId": "9a70190a-c35c-487e-e9ea-7539fadf6d1f"
      },
      "id": "SXDJwToT-Clg",
      "execution_count": null,
      "outputs": [
        {
          "output_type": "stream",
          "name": "stdout",
          "text": [
            "enter kiolmeter10\n",
            "  6.213699999999999\n"
          ]
        }
      ]
    },
    {
      "cell_type": "markdown",
      "id": "0df4e6bf",
      "metadata": {
        "id": "0df4e6bf"
      },
      "source": [
        "### 2.Write a Python program to convert Celsius to Fahrenheit?"
      ]
    },
    {
      "cell_type": "code",
      "source": [
        "cel = float(input(\"enter temp in celsius\"))\n",
        "fah = (cel * 1.8) + 32\n",
        "print(\" temp in fah\", fah)"
      ],
      "metadata": {
        "colab": {
          "base_uri": "https://localhost:8080/"
        },
        "id": "7lZAKxx1_Nqs",
        "outputId": "e3e5c678-96bf-4764-c674-a2b570bc3bff"
      },
      "id": "7lZAKxx1_Nqs",
      "execution_count": null,
      "outputs": [
        {
          "output_type": "stream",
          "name": "stdout",
          "text": [
            "enter temp in celsius10\n",
            " temp in fah 50.0\n"
          ]
        }
      ]
    },
    {
      "cell_type": "markdown",
      "id": "46129b8e",
      "metadata": {
        "id": "46129b8e"
      },
      "source": [
        "3. Write a Python program to display calendar?\n"
      ]
    },
    {
      "cell_type": "code",
      "source": [
        "import calendar\n",
        "a = int(input(\"enter year\"))\n",
        "b = int(input(\"enter month\"))\n",
        "print(calendar.month(a,b))"
      ],
      "metadata": {
        "colab": {
          "base_uri": "https://localhost:8080/"
        },
        "id": "0BlKATdN_3Bb",
        "outputId": "405fdd0c-1015-4884-a522-03dd26cc4704"
      },
      "id": "0BlKATdN_3Bb",
      "execution_count": null,
      "outputs": [
        {
          "output_type": "stream",
          "name": "stdout",
          "text": [
            "enter year2020\n",
            "enter month3\n",
            "     March 2020\n",
            "Mo Tu We Th Fr Sa Su\n",
            "                   1\n",
            " 2  3  4  5  6  7  8\n",
            " 9 10 11 12 13 14 15\n",
            "16 17 18 19 20 21 22\n",
            "23 24 25 26 27 28 29\n",
            "30 31\n",
            "\n"
          ]
        }
      ]
    },
    {
      "cell_type": "markdown",
      "id": "db2bf0f7",
      "metadata": {
        "id": "db2bf0f7"
      },
      "source": [
        "### 4. Write a Python program to solve quadratic equation?"
      ]
    },
    {
      "cell_type": "code",
      "source": [
        "import cmath\n",
        "a = int(input(\"enter value of coefficient a\"))\n",
        "b = int(input(\"enter value of coefficient b\"))\n",
        "c = int(input(\"enter value of coefficient c\"))\n",
        "d = (b**2) - (4*a*c)\n",
        "x = (-b-cmath.sqrt(d))/(2*a)\n",
        "y = (-b+cmath.sqrt(d))/(2*a)\n",
        "print (\"roots\",x,y)"
      ],
      "metadata": {
        "colab": {
          "base_uri": "https://localhost:8080/"
        },
        "id": "-C6y4DUoA7OS",
        "outputId": "ce329e38-4875-4f82-9f22-529624b46c35"
      },
      "id": "-C6y4DUoA7OS",
      "execution_count": null,
      "outputs": [
        {
          "output_type": "stream",
          "name": "stdout",
          "text": [
            "enter value of coefficient a10\n",
            "enter value of coefficient b20\n",
            "enter value of coefficient c30\n",
            "roots (-1-1.4142135623730951j) (-1+1.4142135623730951j)\n"
          ]
        }
      ]
    },
    {
      "cell_type": "markdown",
      "id": "f70f74c9",
      "metadata": {
        "id": "f70f74c9"
      },
      "source": [
        "5. Write a Python program to swap two variables without temp variable?"
      ]
    },
    {
      "cell_type": "code",
      "source": [
        "a = int(input(\"enter first value\"))\n",
        "b = int(input(\"enter second value\"))\n",
        "print (\"\\nBefore swapping- \",)\n",
        "print(\"\\nValue of first variable\", a)\n",
        "print(\"Value of second variable\", b)\n",
        "\n",
        "a, b = b, a\n",
        "\n",
        "print (\"\\nAfter swapping- \")\n",
        "print(\"\\nValue of first variable\", a )\n",
        "print(\"Value of second variable\", b )"
      ],
      "metadata": {
        "colab": {
          "base_uri": "https://localhost:8080/"
        },
        "id": "BL0154QgD_qv",
        "outputId": "eaaeca30-70db-4ac7-f6fa-13f14da03483"
      },
      "id": "BL0154QgD_qv",
      "execution_count": null,
      "outputs": [
        {
          "output_type": "stream",
          "name": "stdout",
          "text": [
            "enter first value5\n",
            "enter second value10\n",
            "\n",
            "Before swapping- \n",
            "\n",
            "Value of first variable 5\n",
            "Value of second variable 10\n",
            "\n",
            "After swapping- \n",
            "\n",
            "Value of first variable 10\n",
            "Value of second variable 5\n"
          ]
        }
      ]
    },
    {
      "cell_type": "markdown",
      "source": [],
      "metadata": {
        "id": "Q-iUx4CQoppc"
      },
      "id": "Q-iUx4CQoppc"
    }
  ],
  "metadata": {
    "kernelspec": {
      "display_name": "Python 3 (ipykernel)",
      "language": "python",
      "name": "python3"
    },
    "language_info": {
      "codemirror_mode": {
        "name": "ipython",
        "version": 3
      },
      "file_extension": ".py",
      "mimetype": "text/x-python",
      "name": "python",
      "nbconvert_exporter": "python",
      "pygments_lexer": "ipython3",
      "version": "3.9.12"
    },
    "colab": {
      "provenance": [],
      "include_colab_link": true
    }
  },
  "nbformat": 4,
  "nbformat_minor": 5
}